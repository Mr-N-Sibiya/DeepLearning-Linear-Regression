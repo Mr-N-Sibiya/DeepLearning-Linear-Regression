{
 "cells": [
  {
   "cell_type": "markdown",
   "id": "e29e02bd-7233-444e-ad6f-372e07ceb15b",
   "metadata": {},
   "source": [
    "## Nhlahla Sibiya\n",
    "## Deep Learning Linear Model\n",
    "## model :Sequential model"
   ]
  },
  {
   "cell_type": "code",
   "execution_count": 1,
   "id": "74be2219-8959-485f-b491-3681f4def3cc",
   "metadata": {},
   "outputs": [],
   "source": [
    "import numpy as np\n",
    "import pandas as pd\n",
    "import matplotlib.pyplot as plt\n",
    "import tensorflow as tf\n",
    "\n",
    "pd.options.display.max_rows = 10\n",
    "pd.options.display.float_format = \"{:.1f}\".format"
   ]
  },
  {
   "cell_type": "code",
   "execution_count": 2,
   "id": "bd1a60d3-80bc-49e2-b4bd-d812571080a7",
   "metadata": {},
   "outputs": [],
   "source": [
    "#traing set and test set of the house data example\n",
    "train_df = pd.read_csv(\"https://download.mlcc.google.com/mledu-datasets/california_housing_train.csv\")\n",
    "test_df = pd.read_csv(\"https://download.mlcc.google.com/mledu-datasets/california_housing_test.csv\")"
   ]
  },
  {
   "cell_type": "markdown",
   "id": "84925020-2f35-4ef0-9f31-140b697bc4cb",
   "metadata": {},
   "source": [
    "## Scale the training and test"
   ]
  },
  {
   "cell_type": "code",
   "execution_count": 3,
   "id": "a97e4092-4b97-4d15-ab76-9015b99e6f80",
   "metadata": {},
   "outputs": [],
   "source": [
    "#scale the columns\n",
    "scale_factor = 1000.0\n",
    "\n",
    "# Scale the training set's label.\n",
    "train_df[\"median_house_value\"] /= scale_factor \n",
    "\n",
    "# Scale the test set's label\n",
    "test_df[\"median_house_value\"] /= scale_factor"
   ]
  },
  {
   "cell_type": "markdown",
   "id": "276d7629-a48f-495c-b7b6-0a667d336e43",
   "metadata": {},
   "source": [
    "Build the model"
   ]
  },
  {
   "cell_type": "code",
   "execution_count": 4,
   "id": "749da7e4-2413-4da2-957d-93247d903fb1",
   "metadata": {},
   "outputs": [],
   "source": [
    "#Define the functions that build and train a model\n",
    "def build_model(my_learning_rate):\n",
    "  \"\"\"Create and compile a simple linear regression model.\"\"\"\n",
    "  # Most simple tf.keras models are sequential.\n",
    "  model = tf.keras.models.Sequential()\n",
    "\n",
    "  # Add one linear layer to the model to yield a simple linear regressor.\n",
    "  model.add(tf.keras.layers.Dense(units=1, input_shape=(1,)))\n",
    "\n",
    "  # Compile the model topography into code that TensorFlow can efficiently\n",
    "  # execute. Configure training to minimize the model's mean squared error. \n",
    "  model.compile(optimizer=tf.keras.optimizers.experimental.RMSprop(learning_rate=my_learning_rate),\n",
    "                loss=\"mean_squared_error\",\n",
    "                metrics=[tf.keras.metrics.RootMeanSquaredError()])\n",
    "\n",
    "  return model"
   ]
  },
  {
   "cell_type": "markdown",
   "id": "e2407c84-0a8f-42c0-9801-c2998e58a821",
   "metadata": {},
   "source": [
    "## train the Model"
   ]
  },
  {
   "cell_type": "code",
   "execution_count": 8,
   "id": "d48adebb-e464-4cd8-9f70-c0065ca6b88e",
   "metadata": {},
   "outputs": [],
   "source": [
    "def train_model(model, df, feature, label, my_epochs, \n",
    "                my_batch_size=None, my_validation_split=0.1):\n",
    "  \"\"\"Feed a dataset into the model in order to train it.\"\"\"\n",
    "\n",
    "  history = model.fit(x=df[feature],\n",
    "                      y=df[label],\n",
    "                      batch_size=my_batch_size,\n",
    "                      epochs=my_epochs,\n",
    "                      validation_split=my_validation_split)\n",
    "\n",
    "  # Gather the model's trained weight and bias.\n",
    "  trained_weight = model.get_weights()[0]\n",
    "  trained_bias = model.get_weights()[1]\n",
    "\n",
    "  # The list of epochs is stored separately from the \n",
    "  # rest of history.\n",
    "  epochs = history.epoch\n",
    "  \n",
    "  # Isolate the root mean squared error for each epoch.\n",
    "  hist = pd.DataFrame(history.history)\n",
    "  rmse = hist[\"root_mean_squared_error\"]\n",
    "\n",
    "  return epochs, rmse, history.history   \n"
   ]
  },
  {
   "cell_type": "markdown",
   "id": "49490364-c9c2-4732-a890-5c954a61c993",
   "metadata": {},
   "source": [
    "## Define the plotting function"
   ]
  },
  {
   "cell_type": "code",
   "execution_count": 7,
   "id": "fa8ec279-4aeb-4a63-ae13-2ce1d20e2fd1",
   "metadata": {},
   "outputs": [],
   "source": [
    "def plot_the_loss_curve(epochs, mae_training, mae_validation):\n",
    "  \"\"\"Plot a curve of loss vs. epoch.\"\"\"\n",
    "\n",
    "  plt.figure()\n",
    "  plt.xlabel(\"Epoch\")\n",
    "  plt.ylabel(\"Root Mean Squared Error\")\n",
    "\n",
    "  plt.plot(epochs[1:], mae_training[1:], label=\"Training Loss\")\n",
    "  plt.plot(epochs[1:], mae_validation[1:], label=\"Validation Loss\")\n",
    "  plt.legend()\n",
    "  \n",
    "  # We're not going to plot the first epoch, since the loss on the first epoch\n",
    "  # is often substantially greater than the loss for other epochs.\n",
    "  merged_mae_lists = mae_training[1:] + mae_validation[1:]\n",
    "  highest_loss = max(merged_mae_lists)\n",
    "  lowest_loss = min(merged_mae_lists)\n",
    "  delta = highest_loss - lowest_loss\n",
    "  print(delta)\n",
    "\n",
    "  top_of_y_axis = highest_loss + (delta * 0.05)\n",
    "  bottom_of_y_axis = lowest_loss - (delta * 0.05)\n",
    "   \n",
    "  plt.ylim([bottom_of_y_axis, top_of_y_axis])\n",
    "  plt.show()  "
   ]
  },
  {
   "cell_type": "code",
   "execution_count": 9,
   "id": "20b441b5-4cdd-4ffd-9c43-21916173fa37",
   "metadata": {},
   "outputs": [
    {
     "name": "stdout",
     "output_type": "stream",
     "text": [
      "Epoch 1/30\n",
      "136/136 [==============================] - 4s 9ms/step - loss: 38382.6172 - root_mean_squared_error: 195.9148 - val_loss: 46441.6992 - val_root_mean_squared_error: 215.5034\n",
      "Epoch 2/30\n",
      "136/136 [==============================] - 0s 3ms/step - loss: 21867.4355 - root_mean_squared_error: 147.8764 - val_loss: 26925.2832 - val_root_mean_squared_error: 164.0892\n",
      "Epoch 3/30\n",
      "136/136 [==============================] - 0s 2ms/step - loss: 11581.8838 - root_mean_squared_error: 107.6192 - val_loss: 14622.7490 - val_root_mean_squared_error: 120.9246\n",
      "Epoch 4/30\n",
      "136/136 [==============================] - 0s 2ms/step - loss: 7083.4053 - root_mean_squared_error: 84.1630 - val_loss: 9453.6016 - val_root_mean_squared_error: 97.2296\n",
      "Epoch 5/30\n",
      "136/136 [==============================] - 0s 3ms/step - loss: 6514.8018 - root_mean_squared_error: 80.7143 - val_loss: 9208.6738 - val_root_mean_squared_error: 95.9618\n",
      "Epoch 6/30\n",
      "136/136 [==============================] - 0s 3ms/step - loss: 6514.0640 - root_mean_squared_error: 80.7098 - val_loss: 9220.8281 - val_root_mean_squared_error: 96.0251\n",
      "Epoch 7/30\n",
      "136/136 [==============================] - 0s 3ms/step - loss: 6514.6006 - root_mean_squared_error: 80.7131 - val_loss: 9272.8486 - val_root_mean_squared_error: 96.2956\n",
      "Epoch 8/30\n",
      "136/136 [==============================] - 0s 2ms/step - loss: 6513.3047 - root_mean_squared_error: 80.7050 - val_loss: 9218.6504 - val_root_mean_squared_error: 96.0138\n",
      "Epoch 9/30\n",
      "136/136 [==============================] - 0s 2ms/step - loss: 6509.9199 - root_mean_squared_error: 80.6841 - val_loss: 9097.6602 - val_root_mean_squared_error: 95.3817\n",
      "Epoch 10/30\n",
      "136/136 [==============================] - 0s 4ms/step - loss: 6514.3726 - root_mean_squared_error: 80.7117 - val_loss: 9332.2383 - val_root_mean_squared_error: 96.6035\n",
      "Epoch 11/30\n",
      "136/136 [==============================] - 1s 4ms/step - loss: 6513.4160 - root_mean_squared_error: 80.7057 - val_loss: 9370.8779 - val_root_mean_squared_error: 96.8033\n",
      "Epoch 12/30\n",
      "136/136 [==============================] - 0s 4ms/step - loss: 6511.8999 - root_mean_squared_error: 80.6963 - val_loss: 9321.6387 - val_root_mean_squared_error: 96.5486\n",
      "Epoch 13/30\n",
      "136/136 [==============================] - 0s 3ms/step - loss: 6513.4570 - root_mean_squared_error: 80.7060 - val_loss: 9186.0215 - val_root_mean_squared_error: 95.8437\n",
      "Epoch 14/30\n",
      "136/136 [==============================] - 0s 2ms/step - loss: 6514.0327 - root_mean_squared_error: 80.7096 - val_loss: 9225.6992 - val_root_mean_squared_error: 96.0505\n",
      "Epoch 15/30\n",
      "136/136 [==============================] - 0s 3ms/step - loss: 6512.8594 - root_mean_squared_error: 80.7023 - val_loss: 9343.8506 - val_root_mean_squared_error: 96.6636\n",
      "Epoch 16/30\n",
      "136/136 [==============================] - 0s 3ms/step - loss: 6513.6323 - root_mean_squared_error: 80.7071 - val_loss: 9403.5820 - val_root_mean_squared_error: 96.9721\n",
      "Epoch 17/30\n",
      "136/136 [==============================] - 0s 3ms/step - loss: 6514.1357 - root_mean_squared_error: 80.7102 - val_loss: 9307.2256 - val_root_mean_squared_error: 96.4740\n",
      "Epoch 18/30\n",
      "136/136 [==============================] - 0s 3ms/step - loss: 6514.1167 - root_mean_squared_error: 80.7101 - val_loss: 9255.7090 - val_root_mean_squared_error: 96.2066\n",
      "Epoch 19/30\n",
      "136/136 [==============================] - 0s 3ms/step - loss: 6514.1025 - root_mean_squared_error: 80.7100 - val_loss: 9271.9238 - val_root_mean_squared_error: 96.2908\n",
      "Epoch 20/30\n",
      "136/136 [==============================] - 0s 3ms/step - loss: 6513.8052 - root_mean_squared_error: 80.7081 - val_loss: 9343.0410 - val_root_mean_squared_error: 96.6594\n",
      "Epoch 21/30\n",
      "136/136 [==============================] - 0s 3ms/step - loss: 6513.9185 - root_mean_squared_error: 80.7088 - val_loss: 9279.5449 - val_root_mean_squared_error: 96.3304\n",
      "Epoch 22/30\n",
      "136/136 [==============================] - 0s 2ms/step - loss: 6513.4619 - root_mean_squared_error: 80.7060 - val_loss: 9154.8350 - val_root_mean_squared_error: 95.6809\n",
      "Epoch 23/30\n",
      "136/136 [==============================] - 0s 3ms/step - loss: 6513.1211 - root_mean_squared_error: 80.7039 - val_loss: 9232.2764 - val_root_mean_squared_error: 96.0847\n",
      "Epoch 24/30\n",
      "136/136 [==============================] - 0s 3ms/step - loss: 6513.7305 - root_mean_squared_error: 80.7077 - val_loss: 9162.8496 - val_root_mean_squared_error: 95.7228\n",
      "Epoch 25/30\n",
      "136/136 [==============================] - 0s 3ms/step - loss: 6513.4014 - root_mean_squared_error: 80.7056 - val_loss: 9403.4541 - val_root_mean_squared_error: 96.9714\n",
      "Epoch 26/30\n",
      "136/136 [==============================] - 0s 3ms/step - loss: 6512.2725 - root_mean_squared_error: 80.6987 - val_loss: 9118.8779 - val_root_mean_squared_error: 95.4928\n",
      "Epoch 27/30\n",
      "136/136 [==============================] - 0s 2ms/step - loss: 6513.1499 - root_mean_squared_error: 80.7041 - val_loss: 9331.0137 - val_root_mean_squared_error: 96.5972\n",
      "Epoch 28/30\n",
      "136/136 [==============================] - 0s 3ms/step - loss: 6513.6611 - root_mean_squared_error: 80.7073 - val_loss: 9242.4092 - val_root_mean_squared_error: 96.1375\n",
      "Epoch 29/30\n",
      "136/136 [==============================] - 0s 3ms/step - loss: 6512.8213 - root_mean_squared_error: 80.7020 - val_loss: 9309.4033 - val_root_mean_squared_error: 96.4853\n",
      "Epoch 30/30\n",
      "136/136 [==============================] - 0s 3ms/step - loss: 6513.1978 - root_mean_squared_error: 80.7044 - val_loss: 9249.0049 - val_root_mean_squared_error: 96.1717\n",
      "83.4051742553711\n"
     ]
    },
    {
     "data": {
      "image/png": "[encoded data removed]",
      "text/plain": [
       "<Figure size 640x480 with 1 Axes>"
      ]
     },
     "metadata": {},
     "output_type": "display_data"
    }
   ],
   "source": [
    "# The following variables are the hyperparameters.\n",
    "learning_rate = 0.08\n",
    "epochs = 30\n",
    "batch_size = 100\n",
    "\n",
    "# Split the original training set into a reduced training set and a\n",
    "# validation set. \n",
    "validation_split = 0.2\n",
    "\n",
    "# Identify the feature and the label.\n",
    "my_feature = \"median_income\"    # the median income on a specific city block.\n",
    "my_label = \"median_house_value\" # the median house value on a specific city block.\n",
    "# That is, you're going to create a model that predicts house value based \n",
    "# solely on the neighborhood's median income.  \n",
    "\n",
    "# Invoke the functions to build and train the model.\n",
    "my_model = build_model(learning_rate)\n",
    "epochs, rmse, history = train_model(my_model, train_df, my_feature, \n",
    "                                    my_label, epochs, batch_size, \n",
    "                                    validation_split)\n",
    "\n",
    "plot_the_loss_curve(epochs, history[\"root_mean_squared_error\"], \n",
    "                    history[\"val_root_mean_squared_error\"])"
   ]
  },
  {
   "cell_type": "markdown",
   "id": "c40a94fd-32d3-4835-81fd-f339cd33f7ca",
   "metadata": {},
   "source": [
    "## After shuffling the examples there is a big difference\n"
   ]
  },
  {
   "cell_type": "code",
   "execution_count": null,
   "id": "7e2716b4-0542-40b1-a644-9c697bd39056",
   "metadata": {},
   "outputs": [
    {
     "name": "stdout",
     "output_type": "stream",
     "text": [
      "Epoch 1/70\n"
     ]
    },
    {
     "name": "stderr",
     "output_type": "stream",
     "text": [
      "C:\\Users\\Two Ways\\Desktop\\mlearn\\Lib\\site-packages\\keras\\engine\\data_adapter.py:1700: FutureWarning: The behavior of `series[i:j]` with an integer-dtype index is deprecated. In a future version, this will be treated as *label-based* indexing, consistent with e.g. `series[i]` lookups. To retain the old behavior, use `series.iloc[i:j]`. To get the future behavior, use `series.loc[i:j]`.\n",
      "  return t[start:end]\n"
     ]
    },
    {
     "name": "stdout",
     "output_type": "stream",
     "text": [
      "136/136 [==============================] - 1s 4ms/step - loss: 42001.7930 - root_mean_squared_error: 204.9434 - val_loss: 30775.4707 - val_root_mean_squared_error: 175.4294\n",
      "Epoch 2/70\n",
      "136/136 [==============================] - 0s 3ms/step - loss: 24381.1797 - root_mean_squared_error: 156.1447 - val_loss: 16656.6367 - val_root_mean_squared_error: 129.0606\n",
      "Epoch 3/70\n",
      "136/136 [==============================] - 0s 3ms/step - loss: 13100.5283 - root_mean_squared_error: 114.4575 - val_loss: 8807.5850 - val_root_mean_squared_error: 93.8487\n",
      "Epoch 4/70\n",
      "136/136 [==============================] - 0s 3ms/step - loss: 7890.8726 - root_mean_squared_error: 88.8306 - val_loss: 6697.4834 - val_root_mean_squared_error: 81.8382\n",
      "Epoch 5/70\n",
      "136/136 [==============================] - 0s 3ms/step - loss: 7092.6196 - root_mean_squared_error: 84.2177 - val_loss: 6725.5029 - val_root_mean_squared_error: 82.0092\n",
      "Epoch 6/70\n",
      "136/136 [==============================] - 0s 3ms/step - loss: 7093.3408 - root_mean_squared_error: 84.2220 - val_loss: 6710.9165 - val_root_mean_squared_error: 81.9202\n",
      "Epoch 7/70\n",
      "136/136 [==============================] - 0s 3ms/step - loss: 7092.1001 - root_mean_squared_error: 84.2146 - val_loss: 6710.2949 - val_root_mean_squared_error: 81.9164\n",
      "Epoch 8/70\n",
      "136/136 [==============================] - 0s 3ms/step - loss: 7093.2007 - root_mean_squared_error: 84.2211 - val_loss: 6712.8335 - val_root_mean_squared_error: 81.9319\n",
      "Epoch 9/70\n",
      "136/136 [==============================] - 0s 3ms/step - loss: 7092.4780 - root_mean_squared_error: 84.2169 - val_loss: 6702.7812 - val_root_mean_squared_error: 81.8705\n",
      "Epoch 10/70\n",
      "136/136 [==============================] - 0s 3ms/step - loss: 7092.4028 - root_mean_squared_error: 84.2164 - val_loss: 6701.9888 - val_root_mean_squared_error: 81.8657\n",
      "Epoch 11/70\n",
      "136/136 [==============================] - 0s 3ms/step - loss: 7092.0229 - root_mean_squared_error: 84.2141 - val_loss: 6699.1240 - val_root_mean_squared_error: 81.8482\n",
      "Epoch 12/70\n",
      "136/136 [==============================] - 0s 3ms/step - loss: 7092.1733 - root_mean_squared_error: 84.2150 - val_loss: 6708.1382 - val_root_mean_squared_error: 81.9032\n",
      "Epoch 13/70\n",
      "136/136 [==============================] - 0s 3ms/step - loss: 7091.3325 - root_mean_squared_error: 84.2101 - val_loss: 6712.3911 - val_root_mean_squared_error: 81.9292\n",
      "Epoch 14/70\n",
      "136/136 [==============================] - 1s 4ms/step - loss: 7090.4590 - root_mean_squared_error: 84.2049 - val_loss: 6724.6201 - val_root_mean_squared_error: 82.0038\n",
      "Epoch 15/70\n",
      "136/136 [==============================] - 0s 3ms/step - loss: 7091.0298 - root_mean_squared_error: 84.2083 - val_loss: 6726.7666 - val_root_mean_squared_error: 82.0169\n",
      "Epoch 16/70\n",
      "136/136 [==============================] - 0s 3ms/step - loss: 7092.5640 - root_mean_squared_error: 84.2174 - val_loss: 6710.9092 - val_root_mean_squared_error: 81.9201\n",
      "Epoch 17/70\n",
      "136/136 [==============================] - 0s 3ms/step - loss: 7089.5488 - root_mean_squared_error: 84.1995 - val_loss: 6696.1646 - val_root_mean_squared_error: 81.8301\n",
      "Epoch 18/70\n",
      "136/136 [==============================] - 0s 3ms/step - loss: 7093.9541 - root_mean_squared_error: 84.2256 - val_loss: 6708.5957 - val_root_mean_squared_error: 81.9060\n",
      "Epoch 19/70\n",
      "136/136 [==============================] - 0s 2ms/step - loss: 7092.0439 - root_mean_squared_error: 84.2143 - val_loss: 6711.1406 - val_root_mean_squared_error: 81.9216\n",
      "Epoch 20/70\n",
      "136/136 [==============================] - 0s 3ms/step - loss: 7091.8770 - root_mean_squared_error: 84.2133 - val_loss: 6721.4307 - val_root_mean_squared_error: 81.9843\n",
      "Epoch 21/70\n",
      "136/136 [==============================] - 0s 3ms/step - loss: 7092.9146 - root_mean_squared_error: 84.2194 - val_loss: 6718.9458 - val_root_mean_squared_error: 81.9692\n",
      "Epoch 22/70\n",
      " 22/136 [===>..........................] - ETA: 0s - loss: 7025.3730 - root_mean_squared_error: 83.8175"
     ]
    }
   ],
   "source": [
    "# The following variables are the hyperparameters.\n",
    "learning_rate = 0.08\n",
    "epochs = 70\n",
    "batch_size = 100\n",
    "\n",
    "# Split the original training set into a reduced training set and a\n",
    "# validation set. \n",
    "validation_split = 0.2\n",
    "\n",
    "# Identify the feature and the label.\n",
    "my_feature = \"median_income\"    # the median income on a specific city block.\n",
    "my_label = \"median_house_value\" # the median house value on a specific city block.\n",
    "# That is, you're going to create a model that predicts house value based \n",
    "# solely on the neighborhood's median income.  \n",
    "\n",
    "# Shuffle the examples.\n",
    "shuffled_train_df = train_df.reindex(np.random.permutation(train_df.index)) \n",
    "\n",
    "# Invoke the functions to build and train the model. Train on the shuffled\n",
    "# training set.\n",
    "my_model = build_model(learning_rate)\n",
    "epochs, rmse, history = train_model(my_model, shuffled_train_df, my_feature, \n",
    "                                    my_label, epochs, batch_size, \n",
    "                                    validation_split)\n",
    "\n",
    "plot_the_loss_curve(epochs, history[\"root_mean_squared_error\"], \n",
    "                    history[\"val_root_mean_squared_error\"])"
   ]
  },
  {
   "cell_type": "code",
   "execution_count": null,
   "id": "07b01c53-e14c-4bea-b6e6-fbbd231117be",
   "metadata": {},
   "outputs": [],
   "source": []
  }
 ],
 "metadata": {
  "kernelspec": {
   "display_name": "Python 3 (ipykernel)",
   "language": "python",
   "name": "python3"
  },
  "language_info": {
   "codemirror_mode": {
    "name": "ipython",
    "version": 3
   },
   "file_extension": ".py",
   "mimetype": "text/x-python",
   "name": "python",
   "nbconvert_exporter": "python",
   "pygments_lexer": "ipython3",
   "version": "3.11.0"
  }
 },
 "nbformat": 4,
 "nbformat_minor": 5
}
